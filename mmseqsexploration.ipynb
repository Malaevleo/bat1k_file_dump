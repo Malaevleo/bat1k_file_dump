{
 "cells": [
  {
   "cell_type": "markdown",
   "metadata": {},
   "source": [
    "***COLLAGENS ONLY***"
   ]
  },
  {
   "cell_type": "code",
   "execution_count": 7,
   "metadata": {},
   "outputs": [
    {
     "name": "stdout",
     "output_type": "stream",
     "text": [
      "           qseqid          sseqid  pident  length  mismatch  gapopen  qstart  \\\n",
      "0     NP_001837.2  XP_036161324.1   0.443    1704       945        0      16   \n",
      "1  XP_006724679.1  XP_036161324.1   0.387    1678      1018        0      28   \n",
      "2  XP_006724679.1  XP_036199461.1   0.351     181        99        0     356   \n",
      "3     NP_001838.2  XP_036161324.1   0.770    1705       388        0       6   \n",
      "4     NP_001838.2  XP_036182601.1   0.367     202       116        0     789   \n",
      "\n",
      "   qend  sstart  send        evalue  bitscore  \n",
      "0  1712       6  1709  0.000000e+00      1343  \n",
      "1  1689      30  1707  0.000000e+00      1099  \n",
      "2   536       3   155  7.279000e-23       106  \n",
      "3  1691       5  1709  0.000000e+00      2672  \n",
      "4   990       2   186  7.824000e-29       126  \n"
     ]
    }
   ],
   "source": [
    "import pandas as pd\n",
    "\n",
    "\n",
    "columns = [\n",
    "    \"qseqid\", \"sseqid\", \"pident\", \"length\", \"mismatch\", \"gapopen\",\n",
    "    \"qstart\", \"qend\", \"sstart\", \"send\", \"evalue\", \"bitscore\"\n",
    "]\n",
    "\n",
    "\n",
    "m8_df = pd.read_csv(\"firstattemptresultdb.m8\", sep=\"\\t\", names=columns)\n",
    "\n",
    "print(m8_df.head())"
   ]
  },
  {
   "cell_type": "code",
   "execution_count": 8,
   "metadata": {},
   "outputs": [
    {
     "data": {
      "text/plain": [
       "(207, 12)"
      ]
     },
     "execution_count": 8,
     "metadata": {},
     "output_type": "execute_result"
    }
   ],
   "source": [
    "m8_df.shape"
   ]
  },
  {
   "cell_type": "code",
   "execution_count": 9,
   "metadata": {},
   "outputs": [
    {
     "data": {
      "text/plain": [
       "<bound method IndexOpsMixin.nunique of 0      XP_036161324.1\n",
       "1      XP_036161324.1\n",
       "2      XP_036199461.1\n",
       "3      XP_036161324.1\n",
       "4      XP_036182601.1\n",
       "            ...      \n",
       "202    XP_036163420.1\n",
       "203    XP_036178578.1\n",
       "204    XP_036184057.1\n",
       "205    XP_036153430.1\n",
       "206    XP_036205437.1\n",
       "Name: sseqid, Length: 207, dtype: object>"
      ]
     },
     "execution_count": 9,
     "metadata": {},
     "output_type": "execute_result"
    }
   ],
   "source": [
    "m8_df['sseqid'].nunique"
   ]
  },
  {
   "cell_type": "code",
   "execution_count": null,
   "metadata": {},
   "outputs": [],
   "source": []
  }
 ],
 "metadata": {
  "kernelspec": {
   "display_name": "base",
   "language": "python",
   "name": "python3"
  },
  "language_info": {
   "codemirror_mode": {
    "name": "ipython",
    "version": 3
   },
   "file_extension": ".py",
   "mimetype": "text/x-python",
   "name": "python",
   "nbconvert_exporter": "python",
   "pygments_lexer": "ipython3",
   "version": "3.12.4"
  }
 },
 "nbformat": 4,
 "nbformat_minor": 2
}
