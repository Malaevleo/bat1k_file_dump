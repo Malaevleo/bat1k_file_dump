{
 "cells": [
  {
   "cell_type": "code",
   "execution_count": 1,
   "metadata": {},
   "outputs": [
    {
     "name": "stdout",
     "output_type": "stream",
     "text": [
      "        qseqid          sseqid  pident  length  mismatch  gapopen  qstart  \\\n",
      "0  NP_056244.2  XP_036203553.1  80.107    1126       148        9      21   \n",
      "1  NP_056244.2  XP_036203533.1  79.796     589        73        4     533   \n",
      "2  NP_056244.2  XP_036203533.1  80.370     540        76        5      21   \n",
      "3  NP_056244.2  XP_036203533.1  33.523     176        75        6     519   \n",
      "4  NP_056244.2  XP_036203533.1  45.614      57        24        3     150   \n",
      "\n",
      "   qend  sstart  send  evalue  bitscore  \n",
      "0  1075      14  1134    0.00    1694.0  \n",
      "1  1075    1137  1725    0.00     863.0  \n",
      "2   535      14   548    0.00     845.0  \n",
      "3   667     857  1017    0.43      36.2  \n",
      "4   202    1509  1562    0.48      36.2  \n"
     ]
    }
   ],
   "source": [
    "import pandas as pd\n",
    "\n",
    "columns = [\"qseqid\", \"sseqid\", \"pident\", \"length\", \"mismatch\", \"gapopen\", \n",
    "           \"qstart\", \"qend\", \"sstart\", \"send\", \"evalue\", \"bitscore\"]\n",
    "\n",
    "blast_df = pd.read_csv(\"resultsmyofiltered.txt\", sep=\"\\t\", names=columns)\n",
    "\n",
    "print(blast_df.head())\n"
   ]
  },
  {
   "cell_type": "code",
   "execution_count": 2,
   "metadata": {},
   "outputs": [
    {
     "name": "stdout",
     "output_type": "stream",
     "text": [
      "        qseqid          sseqid  pident  length  mismatch  gapopen  qstart  \\\n",
      "0  NP_000005.2  XP_036156166.1  69.732    1490       427        5       1   \n",
      "1  NP_000020.1  XP_036211049.1  64.644     478       166        3      10   \n",
      "2  NP_000053.2  XP_036181717.1  67.742     496       131        4      16   \n",
      "3  NP_000079.2  XP_036196892.1  95.287    1464        64        2       1   \n",
      "4  NP_000080.2  XP_036184054.1  92.240    1366       106        0       1   \n",
      "5  NP_000081.1  XP_036175696.1  86.747     664        86        1       1   \n",
      "6  NP_000082.2  XP_036176329.1  82.106    1643       292        2      29   \n",
      "7  NP_000083.3  XP_036176132.1  80.179    1226       242        1       4   \n",
      "8  NP_000084.3  XP_036185062.1  93.821    1845        94        5       1   \n",
      "9  NP_000085.1  XP_036189534.1  82.711    2944       481       14       1   \n",
      "\n",
      "   qend  sstart  send  evalue  bitscore  \n",
      "0  1470       2  1487     0.0    2076.0  \n",
      "1   485       1   477     0.0     619.0  \n",
      "2   500      17   494     0.0     655.0  \n",
      "3  1464       1  1459     0.0    1735.0  \n",
      "4  1366       1  1366     0.0    1732.0  \n",
      "5   662       1   664     0.0     656.0  \n",
      "6  1670      37  1678     0.0    1424.0  \n",
      "7  1229       1  1225     0.0    1086.0  \n",
      "8  1838       1  1832     0.0    2248.0  \n",
      "9  2943       1  2917     0.0    3763.0  \n"
     ]
    }
   ],
   "source": [
    "best_matches = blast_df.groupby('qseqid').first().reset_index()\n",
    "print(best_matches.head(10))"
   ]
  },
  {
   "cell_type": "code",
   "execution_count": 3,
   "metadata": {},
   "outputs": [
    {
     "name": "stdout",
     "output_type": "stream",
     "text": [
      "         qseqid          sseqid  pident  length  mismatch  gapopen  qstart  \\\n",
      "3   NP_000079.2  XP_036196892.1  95.287    1464        64        2       1   \n",
      "4   NP_000080.2  XP_036184054.1  92.240    1366       106        0       1   \n",
      "5   NP_000081.1  XP_036175696.1  86.747     664        86        1       1   \n",
      "6   NP_000082.2  XP_036176329.1  82.106    1643       292        2      29   \n",
      "7   NP_000083.3  XP_036176132.1  80.179    1226       242        1       4   \n",
      "8   NP_000084.3  XP_036185062.1  93.821    1845        94        5       1   \n",
      "9   NP_000085.1  XP_036189534.1  82.711    2944       481       14       1   \n",
      "10  NP_000086.2  XP_036167606.1  90.777     759        67        2       1   \n",
      "13  NP_000120.2  XP_036206306.1  85.460     729       106        0       1   \n",
      "15  NP_000124.1  XP_036162031.1  85.065     462        68        1       1   \n",
      "\n",
      "    qend  sstart  send  evalue  bitscore  \n",
      "3   1464       1  1459     0.0    1735.0  \n",
      "4   1366       1  1366     0.0    1732.0  \n",
      "5    662       1   664     0.0     656.0  \n",
      "6   1670      37  1678     0.0    1424.0  \n",
      "7   1229       1  1225     0.0    1086.0  \n",
      "8   1838       1  1832     0.0    2248.0  \n",
      "9   2943       1  2917     0.0    3763.0  \n",
      "10   757       1   758     0.0    1306.0  \n",
      "13   729       1   729     0.0    1344.0  \n",
      "15   461       1   462     0.0     835.0  \n"
     ]
    }
   ],
   "source": [
    "high_pid_df = best_matches[best_matches['pident'] > 80]\n",
    "print(high_pid_df.head(10))"
   ]
  },
  {
   "cell_type": "code",
   "execution_count": 4,
   "metadata": {},
   "outputs": [
    {
     "name": "stdout",
     "output_type": "stream",
     "text": [
      "(2123, 12)\n",
      "(1267, 12)\n"
     ]
    }
   ],
   "source": [
    "print(best_matches.shape)\n",
    "print(high_pid_df.shape)"
   ]
  },
  {
   "cell_type": "code",
   "execution_count": 5,
   "metadata": {},
   "outputs": [
    {
     "name": "stdout",
     "output_type": "stream",
     "text": [
      "Number of proteins in the FASTA file: 61156\n"
     ]
    }
   ],
   "source": [
    "\n",
    "fasta_file = \"myotis_protein.faa\"\n",
    "with open(fasta_file, \"r\") as file:\n",
    "    protein_count = sum(1 for line in file if line.startswith(\">\"))\n",
    "\n",
    "print(f\"Number of proteins in the FASTA file: {protein_count}\")"
   ]
  },
  {
   "cell_type": "code",
   "execution_count": 6,
   "metadata": {},
   "outputs": [
    {
     "name": "stdout",
     "output_type": "stream",
     "text": [
      "Number of proteins in the FASTA file of matrisome: 2177\n"
     ]
    }
   ],
   "source": [
    "fasta_file1 = \"refseq_sequences.fasta\"\n",
    "with open(fasta_file1, \"r\") as file:\n",
    "    protein_count = sum(1 for line in file if line.startswith(\">\"))\n",
    "\n",
    "print(f\"Number of proteins in the FASTA file of matrisome: {protein_count}\")"
   ]
  },
  {
   "cell_type": "code",
   "execution_count": 7,
   "metadata": {},
   "outputs": [
    {
     "name": "stdout",
     "output_type": "stream",
     "text": [
      "         qseqid          sseqid  pident  length  mismatch  gapopen  qstart  \\\n",
      "0   NP_000005.2  XP_036156166.1  69.732    1490       427        5       1   \n",
      "1   NP_000020.1  XP_036211049.1  64.644     478       166        3      10   \n",
      "2   NP_000053.2  XP_036181717.1  67.742     496       131        4      16   \n",
      "11  NP_000090.1  XP_036178541.1  68.595     121        37        1      26   \n",
      "12  NP_000091.1  XP_036207403.1  72.449      98        27        0       1   \n",
      "14  NP_000122.1  XP_036157918.1  75.177     423       105        0      44   \n",
      "20  NP_000207.2  XP_036167078.1  74.620     658       164        3       1   \n",
      "21  NP_000218.2  XP_036177608.1  74.696    1727       433        3       1   \n",
      "24  NP_000233.1  XP_036193230.1  67.742     248        79        1       1   \n",
      "25  NP_000286.3  XP_036171654.1  71.292     418       112        2       1   \n",
      "\n",
      "    qend  sstart  send         evalue  bitscore  \n",
      "0   1470       2  1487   0.000000e+00    2076.0  \n",
      "1    485       1   477   0.000000e+00     619.0  \n",
      "2    500      17   494   0.000000e+00     655.0  \n",
      "11   146      27   146   8.050000e-62     187.0  \n",
      "12    98       6   103   2.170000e-50     155.0  \n",
      "14   466      24   446   0.000000e+00     683.0  \n",
      "20   657       1   656   0.000000e+00     980.0  \n",
      "21  1724       1  1726   0.000000e+00    2649.0  \n",
      "24   248       8   254  1.040000e-111     322.0  \n",
      "25   418       1   410   0.000000e+00     597.0  \n"
     ]
    },
    {
     "data": {
      "text/plain": [
       "(850, 12)"
      ]
     },
     "execution_count": 7,
     "metadata": {},
     "output_type": "execute_result"
    }
   ],
   "source": [
    "low_pid_df = best_matches[best_matches['pident'] < 80]\n",
    "print(low_pid_df.head(10))\n",
    "low_pid_df.shape"
   ]
  },
  {
   "cell_type": "code",
   "execution_count": 8,
   "metadata": {},
   "outputs": [],
   "source": [
    "best_matches.to_csv('blastp_myotis_data.txt', sep='\\t', index=False)"
   ]
  },
  {
   "cell_type": "code",
   "execution_count": 9,
   "metadata": {},
   "outputs": [
    {
     "name": "stdout",
     "output_type": "stream",
     "text": [
      "        qseqid          sseqid  pident  length  mismatch  gapopen  qstart  \\\n",
      "0  NP_000005.2  XP_036156166.1  69.732    1490       427        5       1   \n",
      "1  NP_000020.1  XP_036211049.1  64.644     478       166        3      10   \n",
      "2  NP_000053.2  XP_036181717.1  67.742     496       131        4      16   \n",
      "3  NP_000079.2  XP_036196892.1  95.287    1464        64        2       1   \n",
      "4  NP_000080.2  XP_036184054.1  92.240    1366       106        0       1   \n",
      "5  NP_000081.1  XP_036175696.1  86.747     664        86        1       1   \n",
      "6  NP_000082.2  XP_036176329.1  82.106    1643       292        2      29   \n",
      "7  NP_000083.3  XP_036176132.1  80.179    1226       242        1       4   \n",
      "8  NP_000084.3  XP_036185062.1  93.821    1845        94        5       1   \n",
      "9  NP_000085.1  XP_036189534.1  82.711    2944       481       14       1   \n",
      "\n",
      "   qend  sstart  send  evalue  bitscore  \n",
      "0  1470       2  1487     0.0    2076.0  \n",
      "1   485       1   477     0.0     619.0  \n",
      "2   500      17   494     0.0     655.0  \n",
      "3  1464       1  1459     0.0    1735.0  \n",
      "4  1366       1  1366     0.0    1732.0  \n",
      "5   662       1   664     0.0     656.0  \n",
      "6  1670      37  1678     0.0    1424.0  \n",
      "7  1229       1  1225     0.0    1086.0  \n",
      "8  1838       1  1832     0.0    2248.0  \n",
      "9  2943       1  2917     0.0    3763.0  \n"
     ]
    }
   ],
   "source": [
    "test_check = pd.read_csv('blastp_myotis_data.txt', sep='\\t')\n",
    "print(test_check.head(10))"
   ]
  },
  {
   "cell_type": "code",
   "execution_count": 10,
   "metadata": {},
   "outputs": [
    {
     "name": "stdout",
     "output_type": "stream",
     "text": [
      "             qseqid          sseqid  pident  length  mismatch  gapopen  \\\n",
      "35      NP_000403.1  XP_036204444.1  46.533     548       175        9   \n",
      "68      NP_000586.2  XP_036212554.1  35.294     153        84        4   \n",
      "69      NP_000587.1  XP_036183086.1  49.561     228        95        1   \n",
      "132  NP_001008693.2  XP_036179572.1  48.673     113        48        2   \n",
      "198  NP_001037858.1  XP_036164079.1  31.373      51        31        1   \n",
      "199  NP_001038944.2  XP_036207924.1  48.958      96        49        0   \n",
      "224  NP_001094811.1  XP_036158083.1  36.957      46        23        2   \n",
      "292  NP_001128564.1  XP_036181568.1  49.045     314       102        6   \n",
      "299  NP_001129076.1  XP_036166963.1  46.341     164        36        3   \n",
      "349  NP_001138365.1  XP_036171275.1  46.561     189        89        2   \n",
      "\n",
      "     qstart  qend  sstart  send         evalue  bitscore  \n",
      "35        5   525      10   466  2.360000e-113     345.0  \n",
      "68       62   205      91   237   3.510000e-21      89.0  \n",
      "69       28   255      32   239   3.870000e-74     227.0  \n",
      "132      12   124       7   109   1.420000e-27     101.0  \n",
      "198      16    62    1019  1069   3.000000e+00      29.6  \n",
      "199      17   112       6   101   5.310000e-32     109.0  \n",
      "224      49    93      20    60   1.600000e+00      28.1  \n",
      "292      48   311      21   326   5.470000e-78     241.0  \n",
      "299      21   134     113   274   1.190000e-35     124.0  \n",
      "349      60   248      72   248   1.140000e-53     175.0  \n"
     ]
    },
    {
     "data": {
      "text/plain": [
       "(73, 12)"
      ]
     },
     "execution_count": 10,
     "metadata": {},
     "output_type": "execute_result"
    }
   ],
   "source": [
    "low_pid_df = best_matches[best_matches['pident'] < 50]\n",
    "print(low_pid_df.head(10))\n",
    "low_pid_df.shape"
   ]
  },
  {
   "cell_type": "code",
   "execution_count": 11,
   "metadata": {},
   "outputs": [],
   "source": [
    "low_pid_df.to_csv('blastp_lowpid_myotis_data.txt', sep='\\t', index=False)"
   ]
  },
  {
   "cell_type": "markdown",
   "metadata": {},
   "source": [
    "***COLLAGENS ONLY***"
   ]
  },
  {
   "cell_type": "code",
   "execution_count": 1,
   "metadata": {},
   "outputs": [
    {
     "name": "stdout",
     "output_type": "stream",
     "text": [
      "        qseqid          sseqid  pident  length  mismatch  gapopen  qstart  \\\n",
      "0  NP_000484.2  XP_036172394.1  91.324     680        59        0       1   \n",
      "1  NP_000484.2  XP_036172393.1  91.324     680        59        0       1   \n",
      "2  NP_000484.2  XP_036206522.1  53.795     448       184        4     249   \n",
      "3  NP_000484.2  XP_036206522.1  34.197     193        54        5      88   \n",
      "4  NP_000484.2  XP_036206521.1  53.795     448       184        4     249   \n",
      "\n",
      "   qend  sstart  send        evalue  bitscore  \n",
      "0   680       1   680  0.000000e+00     677.0  \n",
      "1   680       1   680  0.000000e+00     677.0  \n",
      "2   680     303   743  5.120000e-59     213.0  \n",
      "3   207     303   495  6.200000e+00      31.6  \n",
      "4   680     303   743  5.120000e-59     213.0  \n"
     ]
    }
   ],
   "source": [
    "import pandas as pd\n",
    "\n",
    "columns = [\"qseqid\", \"sseqid\", \"pident\", \"length\", \"mismatch\", \"gapopen\", \n",
    "           \"qstart\", \"qend\", \"sstart\", \"send\", \"evalue\", \"bitscore\"]\n",
    "\n",
    "blast_df = pd.read_csv(\"resultscollagensonly.txt\", sep=\"\\t\", names=columns)\n",
    "\n",
    "print(blast_df.head())\n"
   ]
  },
  {
   "cell_type": "code",
   "execution_count": 2,
   "metadata": {},
   "outputs": [
    {
     "name": "stdout",
     "output_type": "stream",
     "text": [
      "        qseqid          sseqid  pident  length  mismatch  gapopen  qstart  \\\n",
      "0  NP_000079.2  XP_036196892.1  95.287    1464        64        2       1   \n",
      "1  NP_000080.2  XP_036184054.1  92.240    1366       106        0       1   \n",
      "2  NP_000081.1  XP_036175696.1  86.747     664        86        1       1   \n",
      "3  NP_000082.2  XP_036176329.1  82.106    1643       292        2      29   \n",
      "4  NP_000083.3  XP_036176132.1  80.179    1226       242        1       4   \n",
      "5  NP_000084.3  XP_036185062.1  93.821    1845        94        5       1   \n",
      "6  NP_000085.1  XP_036189534.1  82.711    2944       481       14       1   \n",
      "7  NP_000384.2  XP_036174915.1  95.186    1475        71        0      25   \n",
      "8  NP_000484.2  XP_036172394.1  91.324     680        59        0       1   \n",
      "9  NP_000485.3  XP_036191961.1  67.859    1565       298       24       1   \n",
      "\n",
      "   qend  sstart  send  evalue  bitscore  \n",
      "0  1464       1  1459     0.0    1735.0  \n",
      "1  1366       1  1366     0.0    1732.0  \n",
      "2   662       1   664     0.0     656.0  \n",
      "3  1670      37  1678     0.0    1424.0  \n",
      "4  1229       1  1225     0.0    1086.0  \n",
      "5  1838       1  1832     0.0    2248.0  \n",
      "6  2943       1  2917     0.0    3763.0  \n",
      "7  1499      26  1500     0.0    2003.0  \n",
      "8   680       1   680     0.0     677.0  \n",
      "9  1497       1  1428     0.0    1349.0  \n"
     ]
    }
   ],
   "source": [
    "best_matches = blast_df.groupby('qseqid').first().reset_index()\n",
    "print(best_matches.head(10))"
   ]
  },
  {
   "cell_type": "code",
   "execution_count": 7,
   "metadata": {},
   "outputs": [
    {
     "name": "stdout",
     "output_type": "stream",
     "text": [
      "Lowest pident: 67.859\n",
      "Highest pident: 97.848\n"
     ]
    }
   ],
   "source": [
    "lowest_pident = best_matches[\"pident\"].min()\n",
    "highest_pident = best_matches[\"pident\"].max()\n",
    "\n",
    "print(\"Lowest pident:\", lowest_pident)\n",
    "print(\"Highest pident:\", highest_pident)"
   ]
  },
  {
   "cell_type": "code",
   "execution_count": 8,
   "metadata": {},
   "outputs": [
    {
     "name": "stdout",
     "output_type": "stream",
     "text": [
      "Min: 0.0\n",
      "Max: 2.44e-90\n"
     ]
    }
   ],
   "source": [
    "lowest_evalue = best_matches[\"evalue\"].min()\n",
    "highest_evalue = best_matches[\"evalue\"].max()\n",
    "\n",
    "print(\"Min:\", lowest_evalue)\n",
    "print(\"Max:\", highest_evalue)"
   ]
  },
  {
   "cell_type": "code",
   "execution_count": 5,
   "metadata": {},
   "outputs": [
    {
     "data": {
      "text/plain": [
       "<bound method DataFrame.info of             qseqid          sseqid  pident  length  mismatch  gapopen  qstart  \\\n",
       "0      NP_000079.2  XP_036196892.1  95.287    1464        64        2       1   \n",
       "1      NP_000080.2  XP_036184054.1  92.240    1366       106        0       1   \n",
       "2      NP_000081.1  XP_036175696.1  86.747     664        86        1       1   \n",
       "3      NP_000082.2  XP_036176329.1  82.106    1643       292        2      29   \n",
       "4      NP_000083.3  XP_036176132.1  80.179    1226       242        1       4   \n",
       "..             ...             ...     ...     ...       ...      ...     ...   \n",
       "82  XP_006715395.1  XP_036172394.1  91.324     680        59        0       1   \n",
       "83  XP_006715396.1  XP_036172394.1  91.324     680        59        0       1   \n",
       "84  XP_006716576.1  XP_036193447.1  86.242     974       131        1     346   \n",
       "85  XP_006716714.1  XP_036194062.1  91.537    1796       151        1       1   \n",
       "86  XP_006724679.1  XP_036161589.1  93.022    1691       115        1       1   \n",
       "\n",
       "    qend  sstart  send  evalue  bitscore  \n",
       "0   1464       1  1459     0.0    1735.0  \n",
       "1   1366       1  1366     0.0    1732.0  \n",
       "2    662       1   664     0.0     656.0  \n",
       "3   1670      37  1678     0.0    1424.0  \n",
       "4   1229       1  1225     0.0    1086.0  \n",
       "..   ...     ...   ...     ...       ...  \n",
       "82   680       1   680     0.0     677.0  \n",
       "83   680       1   680     0.0     677.0  \n",
       "84  1319     627  1597     0.0     709.0  \n",
       "85  1796       1  1795     0.0    3065.0  \n",
       "86  1691       1  1688     0.0    1617.0  \n",
       "\n",
       "[87 rows x 12 columns]>"
      ]
     },
     "execution_count": 5,
     "metadata": {},
     "output_type": "execute_result"
    }
   ],
   "source": [
    "best_matches.info"
   ]
  },
  {
   "cell_type": "code",
   "execution_count": 6,
   "metadata": {},
   "outputs": [
    {
     "data": {
      "text/plain": [
       "<bound method DataFrame.info of            qseqid          sseqid  pident  length  mismatch  gapopen  qstart  \\\n",
       "0     NP_000484.2  XP_036172394.1  91.324     680        59        0       1   \n",
       "1     NP_000484.2  XP_036172393.1  91.324     680        59        0       1   \n",
       "2     NP_000484.2  XP_036206522.1  53.795     448       184        4     249   \n",
       "3     NP_000484.2  XP_036206522.1  34.197     193        54        5      88   \n",
       "4     NP_000484.2  XP_036206521.1  53.795     448       184        4     249   \n",
       "...           ...             ...     ...     ...       ...      ...     ...   \n",
       "1332  NP_001844.3  XP_036161324.1  35.866     658       260       17      29   \n",
       "1333  NP_001844.3  XP_036161324.1  39.563     412       189        9      26   \n",
       "1334  NP_001844.3  XP_036161324.1  40.385     468       227       11     231   \n",
       "1335  NP_001844.3  XP_036161324.1  38.809     487       229       12       9   \n",
       "1336  NP_001844.3  XP_036161324.1  42.432     370       185        7      27   \n",
       "\n",
       "      qend  sstart  send        evalue  bitscore  \n",
       "0      680       1   680  0.000000e+00     677.0  \n",
       "1      680       1   680  0.000000e+00     677.0  \n",
       "2      680     303   743  5.120000e-59     213.0  \n",
       "3      207     303   495  6.200000e+00      31.6  \n",
       "4      680     303   743  5.120000e-59     213.0  \n",
       "...    ...     ...   ...           ...       ...  \n",
       "1332   546     882  1517  6.180000e-25     112.0  \n",
       "1333   400    1091  1479  3.540000e-22     103.0  \n",
       "1334   671      46   488  1.260000e-20      99.0  \n",
       "1335   451     979  1440  2.210000e-20      98.2  \n",
       "1336   384    1134  1487  4.450000e-14      77.8  \n",
       "\n",
       "[1337 rows x 12 columns]>"
      ]
     },
     "execution_count": 6,
     "metadata": {},
     "output_type": "execute_result"
    }
   ],
   "source": [
    "blast_df.info"
   ]
  },
  {
   "cell_type": "code",
   "execution_count": 9,
   "metadata": {},
   "outputs": [],
   "source": [
    "with open(\"collagensonlyids.txt\") as f:\n",
    "    refseq_ids = f.read().strip().replace(':', '\\n').split()"
   ]
  },
  {
   "cell_type": "code",
   "execution_count": 10,
   "metadata": {},
   "outputs": [
    {
     "data": {
      "text/plain": [
       "['NP_000484.2',\n",
       " 'XP_006715395.1',\n",
       " 'XP_006715396.1',\n",
       " 'NP_001177638.1',\n",
       " 'NP_001845.3',\n",
       " 'NP_542196.2',\n",
       " 'NP_542197.3',\n",
       " 'NP_001157243.1',\n",
       " 'NP_542411.2',\n",
       " 'NP_542412.2',\n",
       " 'NP_542410.2',\n",
       " 'NP_542412.2',\n",
       " 'NP_004361.3',\n",
       " 'NP_542376.2',\n",
       " 'NP_001123575.1',\n",
       " 'NP_542988.3',\n",
       " 'NP_542990.3',\n",
       " 'NP_542991.3',\n",
       " 'NP_542992.3',\n",
       " 'NP_542995.3',\n",
       " 'NP_066933.1',\n",
       " 'XP_005251116.1',\n",
       " 'XP_006716714.1',\n",
       " 'NP_001846.3',\n",
       " 'NP_001847.3',\n",
       " 'NP_000485.3',\n",
       " 'NP_085059.2',\n",
       " 'NP_569712.2',\n",
       " 'NP_001849.2',\n",
       " 'NP_000079.2',\n",
       " 'NP_000080.2',\n",
       " 'NP_065933.2',\n",
       " 'NP_110447.2',\n",
       " 'NP_690848.1',\n",
       " 'XP_005250867.1',\n",
       " 'XP_006716576.1',\n",
       " 'NP_775736.2',\n",
       " 'NP_690850.2',\n",
       " 'NP_001243003.1',\n",
       " 'NP_115907.2',\n",
       " 'NP_942014.1',\n",
       " 'NP_001265492.1',\n",
       " 'NP_597714.2',\n",
       " 'NP_116277.2',\n",
       " 'NP_001032852.2',\n",
       " 'NP_001835.3',\n",
       " 'NP_149162.2',\n",
       " 'NP_000081.1',\n",
       " 'NP_001836.2',\n",
       " 'NP_001837.2',\n",
       " 'NP_000082.2',\n",
       " 'NP_000083.3',\n",
       " 'XP_005246338.1',\n",
       " 'NP_000486.1',\n",
       " 'NP_203699.1',\n",
       " 'XP_006724679.1',\n",
       " 'NP_001274688.1',\n",
       " 'NP_001274689.1',\n",
       " 'NP_001274689.1',\n",
       " 'NP_001838.2',\n",
       " 'NP_378667.1',\n",
       " 'NP_000084.3',\n",
       " 'NP_000384.2',\n",
       " 'NP_056534.2',\n",
       " 'NP_001839.2',\n",
       " 'NP_001840.3',\n",
       " 'NP_478054.2',\n",
       " 'NP_478055.2',\n",
       " 'NP_004360.2',\n",
       " 'NP_476505.3',\n",
       " 'NP_476506.3',\n",
       " 'NP_476507.3',\n",
       " 'NP_476508.2',\n",
       " 'XP_005246122.1',\n",
       " 'NP_001265227.1',\n",
       " 'NP_694996.5',\n",
       " 'NP_001096078.1',\n",
       " 'XP_005247178.1',\n",
       " 'NP_000085.1',\n",
       " 'NP_001841.2',\n",
       " 'NP_065084.2',\n",
       " 'NP_005193.1',\n",
       " 'XP_005270535.1',\n",
       " 'XP_005270536.1',\n",
       " 'NP_001842.3',\n",
       " 'NP_511040.2',\n",
       " 'NP_001843.1',\n",
       " 'XP_006710428.1',\n",
       " 'NP_001844.3']"
      ]
     },
     "execution_count": 10,
     "metadata": {},
     "output_type": "execute_result"
    }
   ],
   "source": [
    "refseq_ids"
   ]
  },
  {
   "cell_type": "code",
   "execution_count": 15,
   "metadata": {},
   "outputs": [
    {
     "data": {
      "text/plain": [
       "89"
      ]
     },
     "execution_count": 15,
     "metadata": {},
     "output_type": "execute_result"
    }
   ],
   "source": [
    "len(refseq_ids)"
   ]
  },
  {
   "cell_type": "code",
   "execution_count": 16,
   "metadata": {},
   "outputs": [
    {
     "name": "stdout",
     "output_type": "stream",
     "text": [
      "Missing IDs: set()\n"
     ]
    }
   ],
   "source": [
    "\n",
    "refseq_ids_set = set(refseq_ids)\n",
    "found_matrisome_ids = set(best_matches[\"qseqid\"])\n",
    "\n",
    "# Find the missing IDs by calculating the difference between the two sets\n",
    "missing_ids = refseq_ids_set - found_matrisome_ids\n",
    "\n",
    "print(\"Missing IDs:\", missing_ids)\n"
   ]
  },
  {
   "cell_type": "code",
   "execution_count": 17,
   "metadata": {},
   "outputs": [
    {
     "name": "stdout",
     "output_type": "stream",
     "text": [
      "Common IDs: {'NP_511040.2', 'XP_005270536.1', 'NP_001835.3', 'NP_942014.1', 'NP_694996.5', 'NP_001840.3', 'NP_001032852.2', 'NP_001123575.1', 'NP_001837.2', 'NP_001841.2', 'NP_542411.2', 'NP_000485.3', 'XP_006710428.1', 'NP_000084.3', 'NP_000085.1', 'XP_005270535.1', 'NP_000081.1', 'NP_001845.3', 'NP_542412.2', 'NP_001265227.1', 'NP_542196.2', 'NP_001274688.1', 'NP_478055.2', 'NP_056534.2', 'NP_115907.2', 'NP_001096078.1', 'NP_000083.3', 'NP_203699.1', 'NP_542988.3', 'NP_001847.3', 'NP_690850.2', 'NP_542991.3', 'NP_775736.2', 'NP_001274689.1', 'NP_004360.2', 'XP_006716576.1', 'NP_542197.3', 'NP_000080.2', 'NP_476506.3', 'NP_001838.2', 'NP_542992.3', 'NP_001849.2', 'XP_005246338.1', 'NP_478054.2', 'NP_005193.1', 'XP_006715396.1', 'NP_001243003.1', 'NP_542995.3', 'NP_000082.2', 'NP_001265492.1', 'NP_476508.2', 'NP_066933.1', 'XP_006724679.1', 'NP_000486.1', 'NP_110447.2', 'NP_690848.1', 'XP_006715395.1', 'XP_005250867.1', 'NP_476507.3', 'NP_597714.2', 'XP_005247178.1', 'XP_005251116.1', 'NP_001843.1', 'NP_001177638.1', 'NP_542376.2', 'NP_065933.2', 'NP_116277.2', 'NP_001836.2', 'NP_542410.2', 'NP_004361.3', 'NP_001846.3', 'NP_001842.3', 'NP_569712.2', 'NP_000079.2', 'XP_006716714.1', 'NP_476505.3', 'NP_001157243.1', 'NP_000484.2', 'NP_085059.2', 'NP_000384.2', 'XP_005246122.1', 'NP_542990.3', 'NP_149162.2', 'NP_001844.3', 'NP_001839.2', 'NP_378667.1', 'NP_065084.2'}\n"
     ]
    }
   ],
   "source": [
    "refseq_ids_set = set(refseq_ids)\n",
    "found_matrisome_ids = set(best_matches[\"qseqid\"])\n",
    "\n",
    "# Find common IDs by calculating the intersection of the two sets\n",
    "common_ids = refseq_ids_set.intersection(found_matrisome_ids)\n",
    "\n",
    "print(\"Common IDs:\", common_ids)"
   ]
  },
  {
   "cell_type": "code",
   "execution_count": 18,
   "metadata": {},
   "outputs": [
    {
     "data": {
      "text/plain": [
       "{'NP_000079.2',\n",
       " 'NP_000080.2',\n",
       " 'NP_000081.1',\n",
       " 'NP_000082.2',\n",
       " 'NP_000083.3',\n",
       " 'NP_000084.3',\n",
       " 'NP_000085.1',\n",
       " 'NP_000384.2',\n",
       " 'NP_000484.2',\n",
       " 'NP_000485.3',\n",
       " 'NP_000486.1',\n",
       " 'NP_001032852.2',\n",
       " 'NP_001096078.1',\n",
       " 'NP_001123575.1',\n",
       " 'NP_001157243.1',\n",
       " 'NP_001177638.1',\n",
       " 'NP_001243003.1',\n",
       " 'NP_001265227.1',\n",
       " 'NP_001265492.1',\n",
       " 'NP_001274688.1',\n",
       " 'NP_001274689.1',\n",
       " 'NP_001835.3',\n",
       " 'NP_001836.2',\n",
       " 'NP_001837.2',\n",
       " 'NP_001838.2',\n",
       " 'NP_001839.2',\n",
       " 'NP_001840.3',\n",
       " 'NP_001841.2',\n",
       " 'NP_001842.3',\n",
       " 'NP_001843.1',\n",
       " 'NP_001844.3',\n",
       " 'NP_001845.3',\n",
       " 'NP_001846.3',\n",
       " 'NP_001847.3',\n",
       " 'NP_001849.2',\n",
       " 'NP_004360.2',\n",
       " 'NP_004361.3',\n",
       " 'NP_005193.1',\n",
       " 'NP_056534.2',\n",
       " 'NP_065084.2',\n",
       " 'NP_065933.2',\n",
       " 'NP_066933.1',\n",
       " 'NP_085059.2',\n",
       " 'NP_110447.2',\n",
       " 'NP_115907.2',\n",
       " 'NP_116277.2',\n",
       " 'NP_149162.2',\n",
       " 'NP_203699.1',\n",
       " 'NP_378667.1',\n",
       " 'NP_476505.3',\n",
       " 'NP_476506.3',\n",
       " 'NP_476507.3',\n",
       " 'NP_476508.2',\n",
       " 'NP_478054.2',\n",
       " 'NP_478055.2',\n",
       " 'NP_511040.2',\n",
       " 'NP_542196.2',\n",
       " 'NP_542197.3',\n",
       " 'NP_542376.2',\n",
       " 'NP_542410.2',\n",
       " 'NP_542411.2',\n",
       " 'NP_542412.2',\n",
       " 'NP_542988.3',\n",
       " 'NP_542990.3',\n",
       " 'NP_542991.3',\n",
       " 'NP_542992.3',\n",
       " 'NP_542995.3',\n",
       " 'NP_569712.2',\n",
       " 'NP_597714.2',\n",
       " 'NP_690848.1',\n",
       " 'NP_690850.2',\n",
       " 'NP_694996.5',\n",
       " 'NP_775736.2',\n",
       " 'NP_942014.1',\n",
       " 'XP_005246122.1',\n",
       " 'XP_005246338.1',\n",
       " 'XP_005247178.1',\n",
       " 'XP_005250867.1',\n",
       " 'XP_005251116.1',\n",
       " 'XP_005270535.1',\n",
       " 'XP_005270536.1',\n",
       " 'XP_006710428.1',\n",
       " 'XP_006715395.1',\n",
       " 'XP_006715396.1',\n",
       " 'XP_006716576.1',\n",
       " 'XP_006716714.1',\n",
       " 'XP_006724679.1'}"
      ]
     },
     "execution_count": 18,
     "metadata": {},
     "output_type": "execute_result"
    }
   ],
   "source": [
    "common_ids"
   ]
  },
  {
   "cell_type": "code",
   "execution_count": 19,
   "metadata": {},
   "outputs": [
    {
     "data": {
      "text/plain": [
       "87"
      ]
     },
     "execution_count": 19,
     "metadata": {},
     "output_type": "execute_result"
    }
   ],
   "source": [
    "len(common_ids)"
   ]
  },
  {
   "cell_type": "code",
   "execution_count": 20,
   "metadata": {},
   "outputs": [
    {
     "name": "stdout",
     "output_type": "stream",
     "text": [
      "Unique values in refseq_ids: set()\n"
     ]
    }
   ],
   "source": [
    "unique_refseq_ids = set(refseq_ids) - set(common_ids)\n",
    "\n",
    "print(\"Unique values in refseq_ids:\", unique_refseq_ids)"
   ]
  },
  {
   "cell_type": "code",
   "execution_count": 21,
   "metadata": {},
   "outputs": [],
   "source": [
    "unique_refseq_ids = set(refseq_ids)\n",
    "\n",
    "# Count the unique values\n",
    "num_unique_refseq_ids = len(unique_refseq_ids)"
   ]
  },
  {
   "cell_type": "code",
   "execution_count": 22,
   "metadata": {},
   "outputs": [
    {
     "data": {
      "text/plain": [
       "87"
      ]
     },
     "execution_count": 22,
     "metadata": {},
     "output_type": "execute_result"
    }
   ],
   "source": [
    "num_unique_refseq_ids"
   ]
  },
  {
   "cell_type": "code",
   "execution_count": 23,
   "metadata": {},
   "outputs": [],
   "source": [
    "best_matches.to_csv('collagens_hs_myotis_best_matches.txt', sep='\\t', index=False)"
   ]
  },
  {
   "cell_type": "markdown",
   "metadata": {},
   "source": [
    "SO ALL PROTS WERE FOUND"
   ]
  },
  {
   "cell_type": "markdown",
   "metadata": {},
   "source": [
    "**MERGED PROTEOME OF 3 BATS**"
   ]
  },
  {
   "cell_type": "code",
   "execution_count": 17,
   "metadata": {},
   "outputs": [
    {
     "name": "stdout",
     "output_type": "stream",
     "text": [
      "        qseqid            sseqid  pident  length  mismatch  gapopen  qstart  \\\n",
      "0  NP_000484.2  myXP_036172394.1  91.324     680        59        0       1   \n",
      "1  NP_000484.2  myXP_036172393.1  91.324     680        59        0       1   \n",
      "2  NP_000484.2  brXP_014387630.1  91.029     680        61        0       1   \n",
      "3  NP_000484.2  brXP_005884752.1  91.029     680        61        0       1   \n",
      "4  NP_000484.2  daXP_059556095.1  91.944     571        46        0     110   \n",
      "\n",
      "   qend  sstart  send  evalue  bitscore  \n",
      "0   680       1   680     0.0     677.0  \n",
      "1   680       1   680     0.0     677.0  \n",
      "2   680       1   680     0.0     649.0  \n",
      "3   680       1   680     0.0     649.0  \n",
      "4   680     110   680     0.0     641.0  \n"
     ]
    }
   ],
   "source": [
    "import pandas as pd\n",
    "\n",
    "columns = [\"qseqid\", \"sseqid\", \"pident\", \"length\", \"mismatch\", \"gapopen\", \n",
    "           \"qstart\", \"qend\", \"sstart\", \"send\", \"evalue\", \"bitscore\"]\n",
    "\n",
    "blast_df = pd.read_csv(\"blastpcollagensmerged.txt\", sep=\"\\t\", names=columns)\n",
    "\n",
    "print(blast_df.head())"
   ]
  },
  {
   "cell_type": "code",
   "execution_count": 18,
   "metadata": {},
   "outputs": [
    {
     "name": "stdout",
     "output_type": "stream",
     "text": [
      "            qseqid            sseqid  pident  length  mismatch  gapopen  \\\n",
      "0      NP_000484.2  myXP_036172394.1  91.324     680        59        0   \n",
      "1      NP_000484.2  myXP_036172393.1  91.324     680        59        0   \n",
      "2      NP_000484.2  brXP_014387630.1  91.029     680        61        0   \n",
      "3      NP_000484.2  brXP_005884752.1  91.029     680        61        0   \n",
      "4      NP_000484.2  daXP_059556095.1  91.944     571        46        0   \n",
      "5      NP_000484.2  daXP_059556094.1  91.944     571        46        0   \n",
      "6      NP_000484.2  brXP_005861305.1  54.018     448       183        4   \n",
      "7      NP_000484.2  brXP_014391079.1  54.018     448       183        4   \n",
      "8      NP_000484.2  brXP_005861304.1  54.018     448       183        4   \n",
      "9      NP_000484.2  myXP_036206522.1  53.795     448       184        4   \n",
      "10  XP_006715395.1  myXP_036172394.1  91.324     680        59        0   \n",
      "11  XP_006715395.1  myXP_036172393.1  91.324     680        59        0   \n",
      "12  XP_006715395.1  brXP_014387630.1  91.029     680        61        0   \n",
      "13  XP_006715395.1  brXP_005884752.1  91.029     680        61        0   \n",
      "14  XP_006715395.1  daXP_059556095.1  91.944     571        46        0   \n",
      "15  XP_006715395.1  daXP_059556094.1  91.944     571        46        0   \n",
      "16  XP_006715395.1  brXP_005861305.1  54.018     448       183        4   \n",
      "17  XP_006715395.1  brXP_014391079.1  54.018     448       183        4   \n",
      "18  XP_006715395.1  brXP_005861304.1  54.018     448       183        4   \n",
      "19  XP_006715395.1  myXP_036206522.1  53.795     448       184        4   \n",
      "\n",
      "    qstart  qend  sstart  send        evalue  bitscore  \n",
      "0        1   680       1   680  0.000000e+00     677.0  \n",
      "1        1   680       1   680  0.000000e+00     677.0  \n",
      "2        1   680       1   680  0.000000e+00     649.0  \n",
      "3        1   680       1   680  0.000000e+00     649.0  \n",
      "4      110   680     110   680  0.000000e+00     641.0  \n",
      "5      110   680     110   680  0.000000e+00     641.0  \n",
      "6      249   680     302   742  4.500000e-59     214.0  \n",
      "7      249   680     303   743  5.730000e-59     214.0  \n",
      "8      249   680     303   743  5.730000e-59     214.0  \n",
      "9      249   680     303   743  1.280000e-58     213.0  \n",
      "10       1   680       1   680  0.000000e+00     677.0  \n",
      "11       1   680       1   680  0.000000e+00     677.0  \n",
      "12       1   680       1   680  0.000000e+00     649.0  \n",
      "13       1   680       1   680  0.000000e+00     649.0  \n",
      "14     110   680     110   680  0.000000e+00     641.0  \n",
      "15     110   680     110   680  0.000000e+00     641.0  \n",
      "16     249   680     302   742  4.500000e-59     214.0  \n",
      "17     249   680     303   743  5.730000e-59     214.0  \n",
      "18     249   680     303   743  5.730000e-59     214.0  \n",
      "19     249   680     303   743  1.280000e-58     213.0  \n"
     ]
    }
   ],
   "source": [
    "print(blast_df.head(20))"
   ]
  },
  {
   "cell_type": "code",
   "execution_count": 19,
   "metadata": {},
   "outputs": [
    {
     "name": "stdout",
     "output_type": "stream",
     "text": [
      "             qseqid            sseqid  pident  length  mismatch  gapopen  \\\n",
      "0       NP_000079.2  myXP_036196892.1  95.287    1464        64        2   \n",
      "1       NP_000080.2  myXP_036184054.1  92.240    1366       106        0   \n",
      "2       NP_000081.1  myXP_036175696.1  86.747     664        86        1   \n",
      "3       NP_000082.2  myXP_036176329.1  82.106    1643       292        2   \n",
      "4       NP_000083.3  myXP_036176132.1  80.179    1226       242        1   \n",
      "..              ...               ...     ...     ...       ...      ...   \n",
      "255  XP_006715395.1  brXP_014387630.1  91.029     680        61        0   \n",
      "256  XP_006715396.1  brXP_014387630.1  91.029     680        61        0   \n",
      "257  XP_006716576.1  brXP_014404503.1  81.322     605        83        3   \n",
      "258  XP_006716714.1  brXP_014388539.1  91.727    1789       147        1   \n",
      "259  XP_006724679.1  brXP_005865275.1  93.290     924        62        0   \n",
      "\n",
      "     qstart  qend  sstart  send         evalue  bitscore  \n",
      "0         1  1464       1  1459   0.000000e+00    1735.0  \n",
      "1         1  1366       1  1366   0.000000e+00    1732.0  \n",
      "2         1   662       1   664   0.000000e+00     656.0  \n",
      "3        29  1670      37  1678   0.000000e+00    1424.0  \n",
      "4         4  1229       1  1225   0.000000e+00    1086.0  \n",
      "..      ...   ...     ...   ...            ...       ...  \n",
      "255       1   680       1   680   0.000000e+00     649.0  \n",
      "256       1   680       1   680   0.000000e+00     649.0  \n",
      "257     716  1312    1030  1612  4.000000e-152     502.0  \n",
      "258       8  1796       1  1788   0.000000e+00    3060.0  \n",
      "259     768  1691     768  1691   0.000000e+00    1030.0  \n",
      "\n",
      "[260 rows x 12 columns]\n"
     ]
    }
   ],
   "source": [
    "best_matches = pd.DataFrame()\n",
    "\n",
    "bat_prefixes = ['my', 'da', 'br']\n",
    "\n",
    "for prefix in bat_prefixes:\n",
    "\n",
    "    bat_matches = blast_df[blast_df['sseqid'].str.startswith(prefix)]\n",
    "\n",
    "    best_bat_matches = bat_matches.loc[bat_matches.groupby('qseqid')['evalue'].idxmin()]\n",
    "\n",
    "    best_matches = pd.concat([best_matches, best_bat_matches], ignore_index=True)\n",
    "\n",
    "\n",
    "print(best_matches)"
   ]
  },
  {
   "cell_type": "code",
   "execution_count": 20,
   "metadata": {},
   "outputs": [
    {
     "data": {
      "text/plain": [
       "<bound method IndexOpsMixin.nunique of 0         NP_000079.2\n",
       "1         NP_000080.2\n",
       "2         NP_000081.1\n",
       "3         NP_000082.2\n",
       "4         NP_000083.3\n",
       "            ...      \n",
       "255    XP_006715395.1\n",
       "256    XP_006715396.1\n",
       "257    XP_006716576.1\n",
       "258    XP_006716714.1\n",
       "259    XP_006724679.1\n",
       "Name: qseqid, Length: 260, dtype: object>"
      ]
     },
     "execution_count": 20,
     "metadata": {},
     "output_type": "execute_result"
    }
   ],
   "source": [
    "best_matches['qseqid'].nunique"
   ]
  },
  {
   "cell_type": "code",
   "execution_count": 21,
   "metadata": {},
   "outputs": [
    {
     "name": "stdout",
     "output_type": "stream",
     "text": [
      "qseqid\n",
      "NP_000079.2       3\n",
      "NP_000080.2       3\n",
      "NP_000081.1       3\n",
      "NP_000082.2       3\n",
      "NP_000083.3       3\n",
      "                 ..\n",
      "XP_006715395.1    3\n",
      "XP_006715396.1    3\n",
      "XP_006716576.1    3\n",
      "XP_006716714.1    3\n",
      "XP_006724679.1    3\n",
      "Name: bat_prefix, Length: 87, dtype: int64\n"
     ]
    }
   ],
   "source": [
    "best_matches['bat_prefix'] = best_matches['sseqid'].str[:2]\n",
    "\n",
    "# Group by 'qseqid' and count unique 'bat_prefix' values for each human protein\n",
    "bat_counts_per_human = best_matches.groupby('qseqid')['bat_prefix'].nunique()\n",
    "\n",
    "# Display the counts\n",
    "print(bat_counts_per_human)"
   ]
  },
  {
   "cell_type": "code",
   "execution_count": 22,
   "metadata": {},
   "outputs": [],
   "source": [
    "best_matches.to_csv('collagensmergedprocessed.txt', sep='\\t', index=False)"
   ]
  },
  {
   "cell_type": "code",
   "execution_count": null,
   "metadata": {},
   "outputs": [
    {
     "name": "stderr",
     "output_type": "stream",
     "text": [
      "<>:6: SyntaxWarning: invalid escape sequence '\\m'\n",
      "<>:6: SyntaxWarning: invalid escape sequence '\\m'\n",
      "C:\\Users\\Леонид\\AppData\\Local\\Temp\\ipykernel_5340\\3009444325.py:6: SyntaxWarning: invalid escape sequence '\\m'\n",
      "  bat_fasta_file = \"mergedproteome\\mergedproteomenoprefix.faa\"\n"
     ]
    },
    {
     "name": "stdout",
     "output_type": "stream",
     "text": [
      "Duplicate ID found: NP_542412.2, ignoring this entry.\n",
      "Duplicate ID found: NP_001274689.1, ignoring this entry.\n",
      "Paired sequences written to paired_collagens_hs_myotis.fasta\n"
     ]
    }
   ],
   "source": [
    "from Bio import SeqIO\n",
    "import pandas as pd\n",
    "\n",
    "# File paths\n",
    "matrisome_fasta_file = \"homo_collagens.fasta\"\n",
    "bat_fasta_file = \"mergedproteome\\mergedproteomenoprefix.faa\"\n",
    "blast_results_file = \"collagensmergedprocessed.txt\"  # Should contain the best_matches DataFrame\n",
    "output_file = \"paired_collagens_hs_myotis.fasta\"\n",
    "\n",
    "# Function to load sequences while handling duplicates\n",
    "def load_fasta_with_duplicates(fasta_file):\n",
    "    sequences = {}\n",
    "    for record in SeqIO.parse(fasta_file, \"fasta\"):\n",
    "        if record.id not in sequences:\n",
    "            sequences[record.id] = record\n",
    "        else:\n",
    "            print(f\"Duplicate ID found: {record.id}, ignoring this entry.\")\n",
    "    return sequences\n",
    "\n",
    "# Load sequences from both FASTA files\n",
    "matrisome_sequences = load_fasta_with_duplicates(matrisome_fasta_file)\n",
    "bat_sequences = load_fasta_with_duplicates(bat_fasta_file)\n",
    "\n",
    "# Load best_matches DataFrame\n",
    "blast_df = pd.read_csv(blast_results_file, sep=\"\\t\")\n",
    "\n",
    "# Open the output FASTA file\n",
    "with open(output_file, \"w\") as output_fasta:\n",
    "    for qseqid, group in blast_df.groupby(\"qseqid\"):\n",
    "        # Retrieve and write the human protein sequence\n",
    "        if qseqid in matrisome_sequences:\n",
    "            qseq = matrisome_sequences[qseqid].seq\n",
    "            qdesc = matrisome_sequences[qseqid].description\n",
    "            output_fasta.write(f\">{qseqid} {qdesc}\\n{qseq}\\n\")\n",
    "        else:\n",
    "            print(f\"QseqID {qseqid} not found in human matrisome.\")\n",
    "            continue\n",
    "\n",
    "        # Write each aligned bat protein sequence for the current human protein\n",
    "        for _, row in group.iterrows():\n",
    "            sseqid_full = row[\"sseqid\"]\n",
    "            prefix = sseqid_full[:2]\n",
    "            sseqid = sseqid_full[2:]  # Remove the prefix\n",
    "            \n",
    "            if sseqid in bat_sequences:\n",
    "                sseq = bat_sequences[sseqid].seq\n",
    "                sdesc = bat_sequences[sseqid].description\n",
    "                \n",
    "                # Note the ID source based on prefix\n",
    "                if prefix == \"br\":\n",
    "                    id_source = \"RefSeq\"\n",
    "                else:\n",
    "                    id_source = \"RefSeq\"\n",
    "                \n",
    "                # Write the bat protein sequence\n",
    "                output_fasta.write(f\">{sseqid} {sdesc} [{id_source}]\\n{sseq}\\n\")\n",
    "            else:\n",
    "                print(f\"SseqID {sseqid} not found in bat proteome.\")\n",
    "\n",
    "print(f\"Paired sequences written to {output_file}\")\n"
   ]
  },
  {
   "cell_type": "code",
   "execution_count": 24,
   "metadata": {},
   "outputs": [
    {
     "name": "stdout",
     "output_type": "stream",
     "text": [
      "qseqids with less than 3 bat matches: ['NP_775736.2']\n",
      "1\n",
      "qseqids with less than 2 bat matches: []\n",
      "0\n"
     ]
    }
   ],
   "source": [
    "qseqids_less_than_3 = bat_counts_per_human[bat_counts_per_human < 3].index.tolist()\n",
    "qseqids_less_than_2 = bat_counts_per_human[bat_counts_per_human < 2].index.tolist()\n",
    "print(\"qseqids with less than 3 bat matches:\", qseqids_less_than_3)\n",
    "print(len(qseqids_less_than_3))\n",
    "print(\"qseqids with less than 2 bat matches:\", qseqids_less_than_2)\n",
    "print(len(qseqids_less_than_2))"
   ]
  },
  {
   "cell_type": "markdown",
   "metadata": {},
   "source": [
    "NP_775736.2 collagen alpha-1(XXIII) chain [Homo sapiens] isn't present in Myotis brandtii"
   ]
  },
  {
   "cell_type": "code",
   "execution_count": 25,
   "metadata": {},
   "outputs": [
    {
     "name": "stdout",
     "output_type": "stream",
     "text": [
      "Lowest pident: 54.859\n",
      "Highest pident: 98.025\n"
     ]
    }
   ],
   "source": [
    "lowest_pident = best_matches[\"pident\"].min()\n",
    "highest_pident = best_matches[\"pident\"].max()\n",
    "\n",
    "print(\"Lowest pident:\", lowest_pident)\n",
    "print(\"Highest pident:\", highest_pident)"
   ]
  },
  {
   "cell_type": "code",
   "execution_count": 28,
   "metadata": {},
   "outputs": [
    {
     "name": "stdout",
     "output_type": "stream",
     "text": [
      "          qseqid            sseqid  pident  length  mismatch  gapopen  qstart  \\\n",
      "9    NP_000485.3  myXP_036191961.1  67.859    1565       298       24       1   \n",
      "153  NP_542995.3  daXP_059517957.1  69.725     545        64        7     155   \n",
      "180  NP_000085.1  brXP_014394465.1  54.859    1770       600       29     489   \n",
      "236  NP_542988.3  brXP_014385849.1  69.212     406        44        6      84   \n",
      "\n",
      "     qend  sstart  send         evalue  bitscore bat_prefix  \n",
      "9    1497       1  1428   0.000000e+00    1349.0         my  \n",
      "153   610      12   544  1.290000e-120     370.0         da  \n",
      "180  2220     100  1708   0.000000e+00    1085.0         br  \n",
      "236   442       1   372   2.360000e-91     290.0         br  \n"
     ]
    }
   ],
   "source": [
    "low_pident_rows = best_matches[best_matches[\"pident\"] < 70]\n",
    "print(low_pident_rows)"
   ]
  },
  {
   "cell_type": "code",
   "execution_count": 29,
   "metadata": {},
   "outputs": [
    {
     "data": {
      "text/plain": [
       "(4, 13)"
      ]
     },
     "execution_count": 29,
     "metadata": {},
     "output_type": "execute_result"
    }
   ],
   "source": [
    "low_pident_rows.shape"
   ]
  },
  {
   "cell_type": "markdown",
   "metadata": {},
   "source": [
    "NP_000085.1 collagen alpha-1(VII) chain precursor [Homo sapiens] is the most different in terms of structure (myotis brandtii)"
   ]
  }
 ],
 "metadata": {
  "kernelspec": {
   "display_name": "base",
   "language": "python",
   "name": "python3"
  },
  "language_info": {
   "codemirror_mode": {
    "name": "ipython",
    "version": 3
   },
   "file_extension": ".py",
   "mimetype": "text/x-python",
   "name": "python",
   "nbconvert_exporter": "python",
   "pygments_lexer": "ipython3",
   "version": "3.12.4"
  }
 },
 "nbformat": 4,
 "nbformat_minor": 2
}
