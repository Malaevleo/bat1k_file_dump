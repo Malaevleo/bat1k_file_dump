{
 "cells": [
  {
   "cell_type": "code",
   "execution_count": 1,
   "metadata": {},
   "outputs": [
    {
     "name": "stdout",
     "output_type": "stream",
     "text": [
      "        qseqid          sseqid  pident  length  mismatch  gapopen  qstart  \\\n",
      "0  NP_056244.2  XP_036203553.1  80.107    1126       148        9      21   \n",
      "1  NP_056244.2  XP_036203533.1  79.796     589        73        4     533   \n",
      "2  NP_056244.2  XP_036203533.1  80.370     540        76        5      21   \n",
      "3  NP_056244.2  XP_036203533.1  33.523     176        75        6     519   \n",
      "4  NP_056244.2  XP_036203533.1  45.614      57        24        3     150   \n",
      "\n",
      "   qend  sstart  send  evalue  bitscore  \n",
      "0  1075      14  1134    0.00    1694.0  \n",
      "1  1075    1137  1725    0.00     863.0  \n",
      "2   535      14   548    0.00     845.0  \n",
      "3   667     857  1017    0.43      36.2  \n",
      "4   202    1509  1562    0.48      36.2  \n"
     ]
    }
   ],
   "source": [
    "import pandas as pd\n",
    "\n",
    "columns = [\"qseqid\", \"sseqid\", \"pident\", \"length\", \"mismatch\", \"gapopen\", \n",
    "           \"qstart\", \"qend\", \"sstart\", \"send\", \"evalue\", \"bitscore\"]\n",
    "\n",
    "blast_df = pd.read_csv(\"resultsmyofiltered.txt\", sep=\"\\t\", names=columns)\n",
    "\n",
    "print(blast_df.head())\n"
   ]
  },
  {
   "cell_type": "code",
   "execution_count": 2,
   "metadata": {},
   "outputs": [
    {
     "name": "stdout",
     "output_type": "stream",
     "text": [
      "        qseqid          sseqid  pident  length  mismatch  gapopen  qstart  \\\n",
      "0  NP_000005.2  XP_036156166.1  69.732    1490       427        5       1   \n",
      "1  NP_000020.1  XP_036211049.1  64.644     478       166        3      10   \n",
      "2  NP_000053.2  XP_036181717.1  67.742     496       131        4      16   \n",
      "3  NP_000079.2  XP_036196892.1  95.287    1464        64        2       1   \n",
      "4  NP_000080.2  XP_036184054.1  92.240    1366       106        0       1   \n",
      "5  NP_000081.1  XP_036175696.1  86.747     664        86        1       1   \n",
      "6  NP_000082.2  XP_036176329.1  82.106    1643       292        2      29   \n",
      "7  NP_000083.3  XP_036176132.1  80.179    1226       242        1       4   \n",
      "8  NP_000084.3  XP_036185062.1  93.821    1845        94        5       1   \n",
      "9  NP_000085.1  XP_036189534.1  82.711    2944       481       14       1   \n",
      "\n",
      "   qend  sstart  send  evalue  bitscore  \n",
      "0  1470       2  1487     0.0    2076.0  \n",
      "1   485       1   477     0.0     619.0  \n",
      "2   500      17   494     0.0     655.0  \n",
      "3  1464       1  1459     0.0    1735.0  \n",
      "4  1366       1  1366     0.0    1732.0  \n",
      "5   662       1   664     0.0     656.0  \n",
      "6  1670      37  1678     0.0    1424.0  \n",
      "7  1229       1  1225     0.0    1086.0  \n",
      "8  1838       1  1832     0.0    2248.0  \n",
      "9  2943       1  2917     0.0    3763.0  \n"
     ]
    }
   ],
   "source": [
    "best_matches = blast_df.groupby('qseqid').first().reset_index()\n",
    "print(best_matches.head(10))"
   ]
  },
  {
   "cell_type": "code",
   "execution_count": 3,
   "metadata": {},
   "outputs": [
    {
     "name": "stdout",
     "output_type": "stream",
     "text": [
      "         qseqid          sseqid  pident  length  mismatch  gapopen  qstart  \\\n",
      "3   NP_000079.2  XP_036196892.1  95.287    1464        64        2       1   \n",
      "4   NP_000080.2  XP_036184054.1  92.240    1366       106        0       1   \n",
      "5   NP_000081.1  XP_036175696.1  86.747     664        86        1       1   \n",
      "6   NP_000082.2  XP_036176329.1  82.106    1643       292        2      29   \n",
      "7   NP_000083.3  XP_036176132.1  80.179    1226       242        1       4   \n",
      "8   NP_000084.3  XP_036185062.1  93.821    1845        94        5       1   \n",
      "9   NP_000085.1  XP_036189534.1  82.711    2944       481       14       1   \n",
      "10  NP_000086.2  XP_036167606.1  90.777     759        67        2       1   \n",
      "13  NP_000120.2  XP_036206306.1  85.460     729       106        0       1   \n",
      "15  NP_000124.1  XP_036162031.1  85.065     462        68        1       1   \n",
      "\n",
      "    qend  sstart  send  evalue  bitscore  \n",
      "3   1464       1  1459     0.0    1735.0  \n",
      "4   1366       1  1366     0.0    1732.0  \n",
      "5    662       1   664     0.0     656.0  \n",
      "6   1670      37  1678     0.0    1424.0  \n",
      "7   1229       1  1225     0.0    1086.0  \n",
      "8   1838       1  1832     0.0    2248.0  \n",
      "9   2943       1  2917     0.0    3763.0  \n",
      "10   757       1   758     0.0    1306.0  \n",
      "13   729       1   729     0.0    1344.0  \n",
      "15   461       1   462     0.0     835.0  \n"
     ]
    }
   ],
   "source": [
    "high_pid_df = best_matches[best_matches['pident'] > 80]\n",
    "print(high_pid_df.head(10))"
   ]
  },
  {
   "cell_type": "code",
   "execution_count": 4,
   "metadata": {},
   "outputs": [
    {
     "name": "stdout",
     "output_type": "stream",
     "text": [
      "(2123, 12)\n",
      "(1267, 12)\n"
     ]
    }
   ],
   "source": [
    "print(best_matches.shape)\n",
    "print(high_pid_df.shape)"
   ]
  },
  {
   "cell_type": "code",
   "execution_count": 5,
   "metadata": {},
   "outputs": [
    {
     "name": "stdout",
     "output_type": "stream",
     "text": [
      "Number of proteins in the FASTA file: 61156\n"
     ]
    }
   ],
   "source": [
    "\n",
    "fasta_file = \"myotis_protein.faa\"\n",
    "with open(fasta_file, \"r\") as file:\n",
    "    protein_count = sum(1 for line in file if line.startswith(\">\"))\n",
    "\n",
    "print(f\"Number of proteins in the FASTA file: {protein_count}\")"
   ]
  },
  {
   "cell_type": "code",
   "execution_count": 6,
   "metadata": {},
   "outputs": [
    {
     "name": "stdout",
     "output_type": "stream",
     "text": [
      "Number of proteins in the FASTA file of matrisome: 2177\n"
     ]
    }
   ],
   "source": [
    "fasta_file1 = \"refseq_sequences.fasta\"\n",
    "with open(fasta_file1, \"r\") as file:\n",
    "    protein_count = sum(1 for line in file if line.startswith(\">\"))\n",
    "\n",
    "print(f\"Number of proteins in the FASTA file of matrisome: {protein_count}\")"
   ]
  },
  {
   "cell_type": "code",
   "execution_count": 7,
   "metadata": {},
   "outputs": [
    {
     "name": "stdout",
     "output_type": "stream",
     "text": [
      "         qseqid          sseqid  pident  length  mismatch  gapopen  qstart  \\\n",
      "0   NP_000005.2  XP_036156166.1  69.732    1490       427        5       1   \n",
      "1   NP_000020.1  XP_036211049.1  64.644     478       166        3      10   \n",
      "2   NP_000053.2  XP_036181717.1  67.742     496       131        4      16   \n",
      "11  NP_000090.1  XP_036178541.1  68.595     121        37        1      26   \n",
      "12  NP_000091.1  XP_036207403.1  72.449      98        27        0       1   \n",
      "14  NP_000122.1  XP_036157918.1  75.177     423       105        0      44   \n",
      "20  NP_000207.2  XP_036167078.1  74.620     658       164        3       1   \n",
      "21  NP_000218.2  XP_036177608.1  74.696    1727       433        3       1   \n",
      "24  NP_000233.1  XP_036193230.1  67.742     248        79        1       1   \n",
      "25  NP_000286.3  XP_036171654.1  71.292     418       112        2       1   \n",
      "\n",
      "    qend  sstart  send         evalue  bitscore  \n",
      "0   1470       2  1487   0.000000e+00    2076.0  \n",
      "1    485       1   477   0.000000e+00     619.0  \n",
      "2    500      17   494   0.000000e+00     655.0  \n",
      "11   146      27   146   8.050000e-62     187.0  \n",
      "12    98       6   103   2.170000e-50     155.0  \n",
      "14   466      24   446   0.000000e+00     683.0  \n",
      "20   657       1   656   0.000000e+00     980.0  \n",
      "21  1724       1  1726   0.000000e+00    2649.0  \n",
      "24   248       8   254  1.040000e-111     322.0  \n",
      "25   418       1   410   0.000000e+00     597.0  \n"
     ]
    },
    {
     "data": {
      "text/plain": [
       "(850, 12)"
      ]
     },
     "execution_count": 7,
     "metadata": {},
     "output_type": "execute_result"
    }
   ],
   "source": [
    "low_pid_df = best_matches[best_matches['pident'] < 80]\n",
    "print(low_pid_df.head(10))\n",
    "low_pid_df.shape"
   ]
  },
  {
   "cell_type": "code",
   "execution_count": 8,
   "metadata": {},
   "outputs": [],
   "source": [
    "best_matches.to_csv('blastp_myotis_data.txt', sep='\\t', index=False)"
   ]
  },
  {
   "cell_type": "code",
   "execution_count": 9,
   "metadata": {},
   "outputs": [
    {
     "name": "stdout",
     "output_type": "stream",
     "text": [
      "        qseqid          sseqid  pident  length  mismatch  gapopen  qstart  \\\n",
      "0  NP_000005.2  XP_036156166.1  69.732    1490       427        5       1   \n",
      "1  NP_000020.1  XP_036211049.1  64.644     478       166        3      10   \n",
      "2  NP_000053.2  XP_036181717.1  67.742     496       131        4      16   \n",
      "3  NP_000079.2  XP_036196892.1  95.287    1464        64        2       1   \n",
      "4  NP_000080.2  XP_036184054.1  92.240    1366       106        0       1   \n",
      "5  NP_000081.1  XP_036175696.1  86.747     664        86        1       1   \n",
      "6  NP_000082.2  XP_036176329.1  82.106    1643       292        2      29   \n",
      "7  NP_000083.3  XP_036176132.1  80.179    1226       242        1       4   \n",
      "8  NP_000084.3  XP_036185062.1  93.821    1845        94        5       1   \n",
      "9  NP_000085.1  XP_036189534.1  82.711    2944       481       14       1   \n",
      "\n",
      "   qend  sstart  send  evalue  bitscore  \n",
      "0  1470       2  1487     0.0    2076.0  \n",
      "1   485       1   477     0.0     619.0  \n",
      "2   500      17   494     0.0     655.0  \n",
      "3  1464       1  1459     0.0    1735.0  \n",
      "4  1366       1  1366     0.0    1732.0  \n",
      "5   662       1   664     0.0     656.0  \n",
      "6  1670      37  1678     0.0    1424.0  \n",
      "7  1229       1  1225     0.0    1086.0  \n",
      "8  1838       1  1832     0.0    2248.0  \n",
      "9  2943       1  2917     0.0    3763.0  \n"
     ]
    }
   ],
   "source": [
    "test_check = pd.read_csv('blastp_myotis_data.txt', sep='\\t')\n",
    "print(test_check.head(10))"
   ]
  },
  {
   "cell_type": "code",
   "execution_count": 10,
   "metadata": {},
   "outputs": [
    {
     "name": "stdout",
     "output_type": "stream",
     "text": [
      "             qseqid          sseqid  pident  length  mismatch  gapopen  \\\n",
      "35      NP_000403.1  XP_036204444.1  46.533     548       175        9   \n",
      "68      NP_000586.2  XP_036212554.1  35.294     153        84        4   \n",
      "69      NP_000587.1  XP_036183086.1  49.561     228        95        1   \n",
      "132  NP_001008693.2  XP_036179572.1  48.673     113        48        2   \n",
      "198  NP_001037858.1  XP_036164079.1  31.373      51        31        1   \n",
      "199  NP_001038944.2  XP_036207924.1  48.958      96        49        0   \n",
      "224  NP_001094811.1  XP_036158083.1  36.957      46        23        2   \n",
      "292  NP_001128564.1  XP_036181568.1  49.045     314       102        6   \n",
      "299  NP_001129076.1  XP_036166963.1  46.341     164        36        3   \n",
      "349  NP_001138365.1  XP_036171275.1  46.561     189        89        2   \n",
      "\n",
      "     qstart  qend  sstart  send         evalue  bitscore  \n",
      "35        5   525      10   466  2.360000e-113     345.0  \n",
      "68       62   205      91   237   3.510000e-21      89.0  \n",
      "69       28   255      32   239   3.870000e-74     227.0  \n",
      "132      12   124       7   109   1.420000e-27     101.0  \n",
      "198      16    62    1019  1069   3.000000e+00      29.6  \n",
      "199      17   112       6   101   5.310000e-32     109.0  \n",
      "224      49    93      20    60   1.600000e+00      28.1  \n",
      "292      48   311      21   326   5.470000e-78     241.0  \n",
      "299      21   134     113   274   1.190000e-35     124.0  \n",
      "349      60   248      72   248   1.140000e-53     175.0  \n"
     ]
    },
    {
     "data": {
      "text/plain": [
       "(73, 12)"
      ]
     },
     "execution_count": 10,
     "metadata": {},
     "output_type": "execute_result"
    }
   ],
   "source": [
    "low_pid_df = best_matches[best_matches['pident'] < 50]\n",
    "print(low_pid_df.head(10))\n",
    "low_pid_df.shape"
   ]
  },
  {
   "cell_type": "code",
   "execution_count": 11,
   "metadata": {},
   "outputs": [],
   "source": [
    "low_pid_df.to_csv('blastp_lowpid_myotis_data.txt', sep='\\t', index=False)"
   ]
  }
 ],
 "metadata": {
  "kernelspec": {
   "display_name": "base",
   "language": "python",
   "name": "python3"
  },
  "language_info": {
   "codemirror_mode": {
    "name": "ipython",
    "version": 3
   },
   "file_extension": ".py",
   "mimetype": "text/x-python",
   "name": "python",
   "nbconvert_exporter": "python",
   "pygments_lexer": "ipython3",
   "version": "3.12.4"
  }
 },
 "nbformat": 4,
 "nbformat_minor": 2
}
