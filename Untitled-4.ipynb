{
 "cells": [
  {
   "cell_type": "markdown",
   "metadata": {},
   "source": [
    "Gene extraction"
   ]
  },
  {
   "cell_type": "code",
   "execution_count": null,
   "metadata": {},
   "outputs": [],
   "source": [
    "from Bio import Entrez\n",
    "from http.client import IncompleteRead\n",
    "import time\n",
    "\n",
    "\n",
    "# Input file containing gene names\n",
    "gene_file = \"genes_by_category/matrisome/collagens.txt\"\n",
    "\n",
    "# Output FASTA file for large genes (protein sequences)\n",
    "output_fasta = \"genes_by_category/collagens.fasta\"\n",
    "\n",
    "# Function to fetch sequences robustly with retries\n",
    "def robust_fetch(fetch_function, retries=3, wait_time=5):\n",
    "    for attempt in range(retries):\n",
    "        try:\n",
    "            return fetch_function()\n",
    "        except IncompleteRead as e:\n",
    "            print(f\"IncompleteRead error: {e}. Retrying {attempt + 1}/{retries}...\")\n",
    "            time.sleep(wait_time)\n",
    "    raise Exception(\"Failed to fetch data after multiple retries\")\n",
    "\n",
    "# Fetch protein sequences from NCBI\n",
    "def fetch_protein_sequence(gene_name):\n",
    "    try:\n",
    "        # Search for the gene in the NCBI protein database (restricted to Homo sapiens)\n",
    "        query = f\"{gene_name}[Gene] AND Homo sapiens[Organism]\"\n",
    "        handle = Entrez.esearch(db=\"protein\", term=query, retmax=1)\n",
    "        record = Entrez.read(handle)\n",
    "        handle.close()\n",
    "\n",
    "        # Fetch the protein sequence by ID\n",
    "        if record[\"IdList\"]:\n",
    "            seq_id = record[\"IdList\"][0]\n",
    "            print(f\"Fetching protein sequence for {gene_name} (ID: {seq_id})...\")\n",
    "            handle = robust_fetch(\n",
    "                lambda: Entrez.efetch(\n",
    "                    db=\"protein\", id=seq_id, rettype=\"fasta\", retmode=\"text\"\n",
    "                )\n",
    "            )\n",
    "            sequence = handle.read()\n",
    "            handle.close()\n",
    "            return sequence\n",
    "        else:\n",
    "            print(f\"No protein sequence found for {gene_name}\")\n",
    "            return None\n",
    "    except Exception as e:\n",
    "        print(f\"Error fetching {gene_name}: {e}\")\n",
    "        return None\n",
    "\n",
    "# Read gene names and fetch protein sequences\n",
    "with open(gene_file, \"r\") as file:\n",
    "    genes = [line.strip() for line in file if line.strip()]\n",
    "\n",
    "with open(output_fasta, \"w\") as fasta_out:\n",
    "    for gene in genes:\n",
    "        protein_sequence = fetch_protein_sequence(gene)\n",
    "        if protein_sequence:\n",
    "            fasta_out.write(protein_sequence)\n",
    "\n",
    "print(f\"Protein sequences saved to: {output_fasta}\")"
   ]
  }
 ],
 "metadata": {
  "kernelspec": {
   "display_name": "base",
   "language": "python",
   "name": "python3"
  },
  "language_info": {
   "name": "python",
   "version": "3.12.4"
  }
 },
 "nbformat": 4,
 "nbformat_minor": 2
}
